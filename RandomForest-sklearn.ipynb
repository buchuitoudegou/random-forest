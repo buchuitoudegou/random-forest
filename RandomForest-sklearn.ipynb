{
 "cells": [
  {
   "cell_type": "code",
   "execution_count": 6,
   "metadata": {},
   "outputs": [],
   "source": [
    "import pandas as pd\n",
    "import numpy as np\n",
    "from sklearn.ensemble import RandomForestRegressor\n",
    "from sklearn.model_selection import KFold\n",
    "from sklearn.metrics import r2_score"
   ]
  },
  {
   "cell_type": "code",
   "execution_count": 7,
   "metadata": {},
   "outputs": [
    {
     "name": "stdout",
     "output_type": "stream",
     "text": [
      "9999998\n",
      "9999998\n",
      "9999998\n",
      "9999998\n",
      "9999998\n"
     ]
    }
   ],
   "source": [
    "# params\n",
    "params = {\n",
    "    \"n_estimators\": 1000,\n",
    "    \"random_state\": 0,\n",
    "    \"max_depth\": 10,\n",
    "    \"min_samples_split\": 4,\n",
    "    \"n_jobs\": 32,\n",
    "    \"oob_score\": True\n",
    "}\n",
    "# read all data from train\n",
    "train_data = []\n",
    "train_label = []\n",
    "for i in range(1, 6):\n",
    "    tmp = pd.read_csv('./data/train%d.csv' % i)\n",
    "    label = pd.read_csv('./data/label%d.csv' % i)\n",
    "    train_data.append(tmp)\n",
    "    train_label.append(label)\n",
    "x = train_data[0]\n",
    "y = train_label[0]\n",
    "for i in range(4):\n",
    "    x = np.vstack((x, train_data[i]))\n",
    "    y = np.vstack((y, train_label[i]))\n",
    "dataset = np.hstack((x, y))\n",
    "kf = KFold(n_splits=5)\n",
    "k_fold_data = []\n",
    "for tra_idx, val_idx in kf.split(dataset):\n",
    "    tra = dataset[tra_idx]\n",
    "    val = dataset[val_idx]\n",
    "    k_fold_data.append((tra, val))\n",
    "    print(len(tra) + len(val))"
   ]
  },
  {
   "cell_type": "code",
   "execution_count": null,
   "metadata": {},
   "outputs": [],
   "source": [
    "predict = []\n",
    "for i in range(len(k_fold_data)):\n",
    "    rf = RandomForestRegressor(**params)\n",
    "    (train, test) = k_fold_data[i]\n",
    "    rf.fit(train[:, :train.shape[1] - 1], train[:, -1])\n",
    "#     score = rf.score(test[:, :test.shape[1] - 1], test[:, -1])\n",
    "    all_predict = rf.predict(test[:, :test.shape[1] - 1])\n",
    "    score = r2_score(test[:, -1], all_predict)\n",
    "    predict.append((np.array(all_predict), score))\n",
    "    print(score)"
   ]
  },
  {
   "cell_type": "code",
   "execution_count": null,
   "metadata": {},
   "outputs": [],
   "source": [
    "ave = sum(predict[:][1]) / len(predict)\n",
    "ave"
   ]
  },
  {
   "cell_type": "code",
   "execution_count": null,
   "metadata": {},
   "outputs": [],
   "source": [
    "# predict\n",
    "rf = RandomForestRegressor(**params)\n",
    "rf.fit(x, y)\n",
    "test = [pd.read_csv(f'./data/test{i + 1}.csv') for i in range(5)]\n",
    "test_x = np.vstack([np.array(test[i]) for i in range(5)])\n",
    "prediction = rf.predict(test_x)\n",
    "output = pd.DataFrame(data = {'id': list(range(1, len(prediction)+1)), 'Predicted': prediction})\n",
    "output.to_csv('result.csv', index=False)"
   ]
  },
  {
   "cell_type": "code",
   "execution_count": null,
   "metadata": {},
   "outputs": [],
   "source": []
  }
 ],
 "metadata": {
  "anaconda-cloud": {},
  "kernelspec": {
   "display_name": "“pytorch”",
   "language": "python",
   "name": "pytorch"
  },
  "language_info": {
   "codemirror_mode": {
    "name": "ipython",
    "version": 3
   },
   "file_extension": ".py",
   "mimetype": "text/x-python",
   "name": "python",
   "nbconvert_exporter": "python",
   "pygments_lexer": "ipython3",
   "version": "3.6.7"
  }
 },
 "nbformat": 4,
 "nbformat_minor": 2
}
