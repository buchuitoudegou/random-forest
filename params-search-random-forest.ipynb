{
 "cells": [
  {
   "cell_type": "code",
   "execution_count": 1,
   "metadata": {},
   "outputs": [],
   "source": [
    "import pandas as pd\n",
    "import numpy as np\n",
    "from sklearn.ensemble import RandomForestRegressor"
   ]
  },
  {
   "cell_type": "code",
   "execution_count": 2,
   "metadata": {},
   "outputs": [
    {
     "name": "stdout",
     "output_type": "stream",
     "text": [
      "(10000004, 13) (10000004,)\n"
     ]
    }
   ],
   "source": [
    "data = [pd.read_csv(f'data/train{i+1}.csv', header=None) for i in range(5)]\n",
    "label = [pd.read_csv(f'data/label{i+1}.csv', header=None) for i in range(5)]\n",
    "\n",
    "x = np.vstack([np.array(data[i]) for i in range(5)])\n",
    "y = np.vstack([np.array(label[i]) for i in range(5)]).reshape(-1, )\n",
    "del data, label\n",
    "\n",
    "print(x.shape, y.shape)"
   ]
  },
  {
   "cell_type": "code",
   "execution_count": 3,
   "metadata": {},
   "outputs": [
    {
     "name": "stdout",
     "output_type": "stream",
     "text": [
      "[0.02856498 0.24888679 0.01255824 0.         0.         0.\n",
      " 0.         0.70998999 0.         0.         0.         0.\n",
      " 0.        ]\n",
      "0.12764583008429864\n"
     ]
    }
   ],
   "source": [
    "# before regulate params\n",
    "origin = RandomForestRegressor(\n",
    "    random_state=0,\n",
    "    max_depth=5,\n",
    "    min_samples_leaf=100,\n",
    "    n_estimators=100,\n",
    "    oob_score=True,\n",
    "    n_jobs=32\n",
    ")\n",
    "origin.fit(x, y)\n",
    "print(origin.feature_importances_)\n",
    "print(origin.oob_score_)"
   ]
  },
  {
   "cell_type": "code",
   "execution_count": null,
   "metadata": {},
   "outputs": [
    {
     "name": "stdout",
     "output_type": "stream",
     "text": [
      "estimators num: 80\n",
      "score: 0.12759064194415526\n",
      "estimators num: 100\n",
      "score: 0.12764583008429864\n",
      "estimators num: 200\n",
      "score: 0.12767769084232738\n"
     ]
    }
   ],
   "source": [
    "# num of estimators\n",
    "number = [80, 100, 200, 300, 400]\n",
    "for num in number:\n",
    "    params = {\n",
    "        \"random_state\": 0,\n",
    "        \"max_depth\": 5,\n",
    "        \"min_samples_leaf\": 100,\n",
    "        \"n_estimators\": num,\n",
    "        \"oob_score\": True,\n",
    "        \"n_jobs\": 32\n",
    "    }\n",
    "    estimator_reg = RandomForestRegressor(**params)\n",
    "    estimator_reg.fit(x, y)\n",
    "    print(f'estimators num: {num}')\n",
    "#     print(f'feature_importances: {estimator_reg.feature_importances_}')\n",
    "    print(f'score: {estimator_reg.oob_score_}')"
   ]
  },
  {
   "cell_type": "code",
   "execution_count": null,
   "metadata": {},
   "outputs": [],
   "source": [
    "# max_feature\n",
    "max_features = ['auto', 'sqrt', 'log2']\n",
    "for mf in max_features:\n",
    "    params = {\n",
    "        'random_state': 0,\n",
    "        'max_depth': 20,\n",
    "        'min_samples_split': 280,\n",
    "        'min_samples_leaf': 100,\n",
    "        'n_estimators': 2000,\n",
    "        'oob_score': True,\n",
    "        'n_jobs': 40,\n",
    "        'max_features': mf\n",
    "    }\n",
    "    mf_rf = RandomForestRegressor(**params)\n",
    "    mf_rf.fit(x, y)\n",
    "    print(f'max_features: {mf}:')\n",
    "    print(f'score: {mf_rf.oob_score_}')"
   ]
  },
  {
   "cell_type": "code",
   "execution_count": null,
   "metadata": {},
   "outputs": [],
   "source": [
    "# max_depth\n",
    "max_depth = list(range(10, 30, 5))\n",
    "for md in max_depth:\n",
    "    params = {\n",
    "        'random_state': 0,\n",
    "        'max_depth': md,\n",
    "        'min_samples_split': 100,\n",
    "        'min_samples_leaf': 100,\n",
    "        'n_estimators': 100,\n",
    "        'oob_score': True,\n",
    "        'n_jobs': 40,\n",
    "        'max_features': 'auto'\n",
    "    }\n",
    "    regr = RandomForestRegressor(**params)\n",
    "    regr.fit(x, y)\n",
    "    print(f'max_depth: {md}:')\n",
    "    print(f'score: {regr.oob_score_}')"
   ]
  },
  {
   "cell_type": "code",
   "execution_count": null,
   "metadata": {},
   "outputs": [],
   "source": [
    "# min_samples_split\n",
    "min_samples_split = list(range(100, 1000, 100))\n",
    "for mss in min_samples_split:\n",
    "    params = {\n",
    "        'random_state': 0,\n",
    "        'max_depth': 20,\n",
    "        'min_samples_split': mss,\n",
    "        'min_samples_leaf': 100,\n",
    "        'n_estimators': 100,\n",
    "        'oob_score': True,\n",
    "        'n_jobs': 40,\n",
    "        'max_features': 'auto'\n",
    "    }\n",
    "    regr = RandomForestRegressor(**params)\n",
    "    regr.fit(x, y)\n",
    "    print(f'min_samples_split: {mss}:')\n",
    "    print(f'score: {regr.oob_score_}')"
   ]
  },
  {
   "cell_type": "code",
   "execution_count": null,
   "metadata": {},
   "outputs": [],
   "source": [
    "# min_samples_leaf\n",
    "min_samples_leaf = list(range(10, 51, 10))\n",
    "for msf in min_samples_leaf:\n",
    "    params = {\n",
    "        'random_state': 0,\n",
    "        'max_depth': 20,\n",
    "        'min_samples_split': 300,\n",
    "        'min_samples_leaf': msf,\n",
    "        'n_estimators': 100,\n",
    "        'oob_score': True,\n",
    "        'n_jobs': 40,\n",
    "        'max_features': 'auto'\n",
    "    }\n",
    "    regr = RandomForestRegressor(**params)\n",
    "    regr.fit(x, y)\n",
    "    print(f'min_samples_leaf: {msf}:')\n",
    "    print(f'score: {regr.oob_score_}')"
   ]
  },
  {
   "cell_type": "code",
   "execution_count": null,
   "metadata": {},
   "outputs": [],
   "source": []
  }
 ],
 "metadata": {
  "anaconda-cloud": {},
  "kernelspec": {
   "display_name": "“pytorch”",
   "language": "python",
   "name": "pytorch"
  },
  "language_info": {
   "codemirror_mode": {
    "name": "ipython",
    "version": 3
   },
   "file_extension": ".py",
   "mimetype": "text/x-python",
   "name": "python",
   "nbconvert_exporter": "python",
   "pygments_lexer": "ipython3",
   "version": "3.6.7"
  }
 },
 "nbformat": 4,
 "nbformat_minor": 2
}
